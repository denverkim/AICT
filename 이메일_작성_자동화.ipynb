{
  "nbformat": 4,
  "nbformat_minor": 0,
  "metadata": {
    "colab": {
      "provenance": [],
      "authorship_tag": "ABX9TyPWguD5hShU+yOaHcsi6XKU",
      "include_colab_link": true
    },
    "kernelspec": {
      "name": "python3",
      "display_name": "Python 3"
    },
    "language_info": {
      "name": "python"
    }
  },
  "cells": [
    {
      "cell_type": "markdown",
      "metadata": {
        "id": "view-in-github",
        "colab_type": "text"
      },
      "source": [
        "<a href=\"https://colab.research.google.com/github/denverkim/AICT/blob/main/%EC%9D%B4%EB%A9%94%EC%9D%BC_%EC%9E%91%EC%84%B1_%EC%9E%90%EB%8F%99%ED%99%94.ipynb\" target=\"_parent\"><img src=\"https://colab.research.google.com/assets/colab-badge.svg\" alt=\"Open In Colab\"/></a>"
      ]
    },
    {
      "cell_type": "code",
      "execution_count": 2,
      "metadata": {
        "id": "LPIeUYt9VXgN"
      },
      "outputs": [],
      "source": [
        "from openai import OpenAI\n",
        "\n",
        "# API 키 설정\n",
        "from google.colab import userdata\n",
        "OPENAI_API_KEY = userdata.get('OPENAI_API_KEY')\n",
        "\n",
        "client = OpenAI(api_key=OPENAI_API_KEY)\n",
        "\n",
        "# 1. 샘플 데이터\n",
        "data = \"\"\"\n",
        "행사명: 2025년 연구 성과 발표회\n",
        "일시: 2025년 9월 10일 오후 2시\n",
        "장소: ○○연구원 국제회의실\n",
        "목적: 연구 성과 공유 및 산학 협력 강화\n",
        "요청사항: 각 부서별 1명 이상 참석, 발표자료 9월 5일까지 제출\n",
        "\"\"\""
      ]
    },
    {
      "cell_type": "code",
      "source": [
        "# 2. 프롬프트 생성\n",
        "prompt = f\"\"\"\n",
        "너는 행정 공문 작성 전문가야.\n",
        "다음 데이터를 바탕으로 공식적인 공문을 작성해줘.\n",
        "\n",
        "데이터:\n",
        "{data}\n",
        "\n",
        "형식:\n",
        "- 문서 제목\n",
        "- 수신자\n",
        "- 발신자\n",
        "- 본문 (배경, 요청/안내 사항, 협조 요청)\n",
        "- 결재란\n",
        "\n",
        "톤: 격식 있고 간결한 공문 스타일\n",
        "\"\"\""
      ],
      "metadata": {
        "id": "QGTu_7uOVvd_"
      },
      "execution_count": 3,
      "outputs": []
    },
    {
      "cell_type": "code",
      "source": [
        "# 3. LLM 호출\n",
        "response = client.chat.completions.create(\n",
        "    model=\"gpt-4o-mini\",   # 필요시 \"gpt-4o\" 또는 \"gpt-4.1\" 등으로 교체 가능\n",
        "    messages=[\n",
        "        {\"role\": \"system\", \"content\": \"You are a professional administrative document writer.\"},\n",
        "        {\"role\": \"user\", \"content\": prompt}\n",
        "    ],\n",
        "    temperature=0.3\n",
        ")\n",
        "\n",
        "# 4. 결과 출력\n",
        "\n",
        "from IPython.display import Markdown\n",
        "Markdown(response.choices[0].message.content)"
      ],
      "metadata": {
        "colab": {
          "base_uri": "https://localhost:8080/",
          "height": 481
        },
        "id": "qvNOQQYGWGtZ",
        "outputId": "9f779d3d-899b-4dfe-bb39-ed69d6f5c295"
      },
      "execution_count": 5,
      "outputs": [
        {
          "output_type": "execute_result",
          "data": {
            "text/plain": [
              "<IPython.core.display.Markdown object>"
            ],
            "text/markdown": "**문서 제목:** 2025년 연구 성과 발표회 개최 안내\n\n**수신자:** 각 부서장 귀하\n\n**발신자:** ○○연구원장\n\n---\n\n**본 문서의 목적**\n\n2025년 9월 10일 오후 2시에 ○○연구원 국제회의실에서 \"2025년 연구 성과 발표회\"를 개최하고자 합니다. 본 발표회는 연구 성과를 공유하고, 산학 협력을 강화하기 위한 중요한 자리입니다.\n\n**요청/안내 사항**\n\n이에 따라 각 부서에서는 1명 이상의 참석자를 선정하여 참여해 주시기 바랍니다. 또한, 발표를 희망하는 부서는 발표자료를 2025년 9월 5일까지 제출하여 주시기 바랍니다. 제출된 자료는 발표회 진행에 있어 중요한 참고자료로 활용될 예정입니다.\n\n**협조 요청**\n\n각 부서의 적극적인 참여와 협조를 부탁드립니다. 연구 성과 발표회가 성공적으로 진행될 수 있도록 최선을 다해 주시기 바랍니다.\n\n감사합니다.\n\n---\n\n**결재란**\n\n--------------------------------  \n부서장: ___________ (서명)  \n날짜: ___________  \n--------------------------------  \n○○연구원장: ___________ (서명)  \n날짜: ___________  \n--------------------------------  "
          },
          "metadata": {},
          "execution_count": 5
        }
      ]
    }
  ]
}